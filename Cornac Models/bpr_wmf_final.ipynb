{
  "nbformat": 4,
  "nbformat_minor": 0,
  "metadata": {
    "colab": {
      "name": "BPR_MF_final.ipynb",
      "provenance": [],
      "collapsed_sections": [],
      "machine_shape": "hm"
    },
    "kernelspec": {
      "name": "python3",
      "display_name": "Python 3"
    },
    "language_info": {
      "name": "python"
    },
    "widgets": {
      "application/vnd.jupyter.widget-state+json": {
        "cf643aaa2f1747b082f487ae96deeb78": {
          "model_module": "@jupyter-widgets/controls",
          "model_name": "HBoxModel",
          "state": {
            "_view_name": "HBoxView",
            "_dom_classes": [],
            "_model_name": "HBoxModel",
            "_view_module": "@jupyter-widgets/controls",
            "_model_module_version": "1.5.0",
            "_view_count": null,
            "_view_module_version": "1.5.0",
            "box_style": "",
            "layout": "IPY_MODEL_6be8837b17f94e3fb054b4b3cd6f83ef",
            "_model_module": "@jupyter-widgets/controls",
            "children": [
              "IPY_MODEL_56959fbd11cf438c91b8d7415a92f5c8",
              "IPY_MODEL_33d38594422a4aadbfce8f9aa76e8238"
            ]
          }
        },
        "6be8837b17f94e3fb054b4b3cd6f83ef": {
          "model_module": "@jupyter-widgets/base",
          "model_name": "LayoutModel",
          "state": {
            "_view_name": "LayoutView",
            "grid_template_rows": null,
            "right": null,
            "justify_content": null,
            "_view_module": "@jupyter-widgets/base",
            "overflow": null,
            "_model_module_version": "1.2.0",
            "_view_count": null,
            "flex_flow": null,
            "width": null,
            "min_width": null,
            "border": null,
            "align_items": null,
            "bottom": null,
            "_model_module": "@jupyter-widgets/base",
            "top": null,
            "grid_column": null,
            "overflow_y": null,
            "overflow_x": null,
            "grid_auto_flow": null,
            "grid_area": null,
            "grid_template_columns": null,
            "flex": null,
            "_model_name": "LayoutModel",
            "justify_items": null,
            "grid_row": null,
            "max_height": null,
            "align_content": null,
            "visibility": null,
            "align_self": null,
            "height": null,
            "min_height": null,
            "padding": null,
            "grid_auto_rows": null,
            "grid_gap": null,
            "max_width": null,
            "order": null,
            "_view_module_version": "1.2.0",
            "grid_template_areas": null,
            "object_position": null,
            "object_fit": null,
            "grid_auto_columns": null,
            "margin": null,
            "display": null,
            "left": null
          }
        },
        "56959fbd11cf438c91b8d7415a92f5c8": {
          "model_module": "@jupyter-widgets/controls",
          "model_name": "FloatProgressModel",
          "state": {
            "_view_name": "ProgressView",
            "style": "IPY_MODEL_cd2e1c03a5cd4e9486160b613c686fdc",
            "_dom_classes": [],
            "description": "100%",
            "_model_name": "FloatProgressModel",
            "bar_style": "success",
            "max": 500,
            "_view_module": "@jupyter-widgets/controls",
            "_model_module_version": "1.5.0",
            "value": 500,
            "_view_count": null,
            "_view_module_version": "1.5.0",
            "orientation": "horizontal",
            "min": 0,
            "description_tooltip": null,
            "_model_module": "@jupyter-widgets/controls",
            "layout": "IPY_MODEL_2e68dd96670840f8896797ddc677c6f2"
          }
        },
        "33d38594422a4aadbfce8f9aa76e8238": {
          "model_module": "@jupyter-widgets/controls",
          "model_name": "HTMLModel",
          "state": {
            "_view_name": "HTMLView",
            "style": "IPY_MODEL_d16ccea87cee4ce0b1b01bca36a0a7a0",
            "_dom_classes": [],
            "description": "",
            "_model_name": "HTMLModel",
            "placeholder": "​",
            "_view_module": "@jupyter-widgets/controls",
            "_model_module_version": "1.5.0",
            "value": " 500/500 [58:26&lt;00:00,  7.01s/it, correct=99.75%, skipped=0.01%]",
            "_view_count": null,
            "_view_module_version": "1.5.0",
            "description_tooltip": null,
            "_model_module": "@jupyter-widgets/controls",
            "layout": "IPY_MODEL_5488fb8f494a4b00b0414c2ed742bae8"
          }
        },
        "cd2e1c03a5cd4e9486160b613c686fdc": {
          "model_module": "@jupyter-widgets/controls",
          "model_name": "ProgressStyleModel",
          "state": {
            "_view_name": "StyleView",
            "_model_name": "ProgressStyleModel",
            "description_width": "initial",
            "_view_module": "@jupyter-widgets/base",
            "_model_module_version": "1.5.0",
            "_view_count": null,
            "_view_module_version": "1.2.0",
            "bar_color": null,
            "_model_module": "@jupyter-widgets/controls"
          }
        },
        "2e68dd96670840f8896797ddc677c6f2": {
          "model_module": "@jupyter-widgets/base",
          "model_name": "LayoutModel",
          "state": {
            "_view_name": "LayoutView",
            "grid_template_rows": null,
            "right": null,
            "justify_content": null,
            "_view_module": "@jupyter-widgets/base",
            "overflow": null,
            "_model_module_version": "1.2.0",
            "_view_count": null,
            "flex_flow": null,
            "width": null,
            "min_width": null,
            "border": null,
            "align_items": null,
            "bottom": null,
            "_model_module": "@jupyter-widgets/base",
            "top": null,
            "grid_column": null,
            "overflow_y": null,
            "overflow_x": null,
            "grid_auto_flow": null,
            "grid_area": null,
            "grid_template_columns": null,
            "flex": null,
            "_model_name": "LayoutModel",
            "justify_items": null,
            "grid_row": null,
            "max_height": null,
            "align_content": null,
            "visibility": null,
            "align_self": null,
            "height": null,
            "min_height": null,
            "padding": null,
            "grid_auto_rows": null,
            "grid_gap": null,
            "max_width": null,
            "order": null,
            "_view_module_version": "1.2.0",
            "grid_template_areas": null,
            "object_position": null,
            "object_fit": null,
            "grid_auto_columns": null,
            "margin": null,
            "display": null,
            "left": null
          }
        },
        "d16ccea87cee4ce0b1b01bca36a0a7a0": {
          "model_module": "@jupyter-widgets/controls",
          "model_name": "DescriptionStyleModel",
          "state": {
            "_view_name": "StyleView",
            "_model_name": "DescriptionStyleModel",
            "description_width": "",
            "_view_module": "@jupyter-widgets/base",
            "_model_module_version": "1.5.0",
            "_view_count": null,
            "_view_module_version": "1.2.0",
            "_model_module": "@jupyter-widgets/controls"
          }
        },
        "5488fb8f494a4b00b0414c2ed742bae8": {
          "model_module": "@jupyter-widgets/base",
          "model_name": "LayoutModel",
          "state": {
            "_view_name": "LayoutView",
            "grid_template_rows": null,
            "right": null,
            "justify_content": null,
            "_view_module": "@jupyter-widgets/base",
            "overflow": null,
            "_model_module_version": "1.2.0",
            "_view_count": null,
            "flex_flow": null,
            "width": null,
            "min_width": null,
            "border": null,
            "align_items": null,
            "bottom": null,
            "_model_module": "@jupyter-widgets/base",
            "top": null,
            "grid_column": null,
            "overflow_y": null,
            "overflow_x": null,
            "grid_auto_flow": null,
            "grid_area": null,
            "grid_template_columns": null,
            "flex": null,
            "_model_name": "LayoutModel",
            "justify_items": null,
            "grid_row": null,
            "max_height": null,
            "align_content": null,
            "visibility": null,
            "align_self": null,
            "height": null,
            "min_height": null,
            "padding": null,
            "grid_auto_rows": null,
            "grid_gap": null,
            "max_width": null,
            "order": null,
            "_view_module_version": "1.2.0",
            "grid_template_areas": null,
            "object_position": null,
            "object_fit": null,
            "grid_auto_columns": null,
            "margin": null,
            "display": null,
            "left": null
          }
        },
        "3314e4ff643747489b5508b2ca0672ab": {
          "model_module": "@jupyter-widgets/controls",
          "model_name": "HBoxModel",
          "state": {
            "_view_name": "HBoxView",
            "_dom_classes": [],
            "_model_name": "HBoxModel",
            "_view_module": "@jupyter-widgets/controls",
            "_model_module_version": "1.5.0",
            "_view_count": null,
            "_view_module_version": "1.5.0",
            "box_style": "",
            "layout": "IPY_MODEL_b098d706f9ad4017b1e946f4ca9cc1bb",
            "_model_module": "@jupyter-widgets/controls",
            "children": [
              "IPY_MODEL_9ef06e84c6e84986a380f3ca0a16d9fa",
              "IPY_MODEL_bcf5877a83ea49138e6afc79244e8195"
            ]
          }
        },
        "b098d706f9ad4017b1e946f4ca9cc1bb": {
          "model_module": "@jupyter-widgets/base",
          "model_name": "LayoutModel",
          "state": {
            "_view_name": "LayoutView",
            "grid_template_rows": null,
            "right": null,
            "justify_content": null,
            "_view_module": "@jupyter-widgets/base",
            "overflow": null,
            "_model_module_version": "1.2.0",
            "_view_count": null,
            "flex_flow": null,
            "width": null,
            "min_width": null,
            "border": null,
            "align_items": null,
            "bottom": null,
            "_model_module": "@jupyter-widgets/base",
            "top": null,
            "grid_column": null,
            "overflow_y": null,
            "overflow_x": null,
            "grid_auto_flow": null,
            "grid_area": null,
            "grid_template_columns": null,
            "flex": null,
            "_model_name": "LayoutModel",
            "justify_items": null,
            "grid_row": null,
            "max_height": null,
            "align_content": null,
            "visibility": null,
            "align_self": null,
            "height": null,
            "min_height": null,
            "padding": null,
            "grid_auto_rows": null,
            "grid_gap": null,
            "max_width": null,
            "order": null,
            "_view_module_version": "1.2.0",
            "grid_template_areas": null,
            "object_position": null,
            "object_fit": null,
            "grid_auto_columns": null,
            "margin": null,
            "display": null,
            "left": null
          }
        },
        "9ef06e84c6e84986a380f3ca0a16d9fa": {
          "model_module": "@jupyter-widgets/controls",
          "model_name": "FloatProgressModel",
          "state": {
            "_view_name": "ProgressView",
            "style": "IPY_MODEL_7a5eac0b747f4963a9a65280d8dde3e8",
            "_dom_classes": [],
            "description": "Ranking: 100%",
            "_model_name": "FloatProgressModel",
            "bar_style": "success",
            "max": 168775,
            "_view_module": "@jupyter-widgets/controls",
            "_model_module_version": "1.5.0",
            "value": 168775,
            "_view_count": null,
            "_view_module_version": "1.5.0",
            "orientation": "horizontal",
            "min": 0,
            "description_tooltip": null,
            "_model_module": "@jupyter-widgets/controls",
            "layout": "IPY_MODEL_8b50e3f1f9af4808bb376de52a879d0c"
          }
        },
        "bcf5877a83ea49138e6afc79244e8195": {
          "model_module": "@jupyter-widgets/controls",
          "model_name": "HTMLModel",
          "state": {
            "_view_name": "HTMLView",
            "style": "IPY_MODEL_79a56a3d84e642ca9cf145ea4f6ce0d8",
            "_dom_classes": [],
            "description": "",
            "_model_name": "HTMLModel",
            "placeholder": "​",
            "_view_module": "@jupyter-widgets/controls",
            "_model_module_version": "1.5.0",
            "value": " 168775/168775 [37:59&lt;00:00, 74.04it/s]",
            "_view_count": null,
            "_view_module_version": "1.5.0",
            "description_tooltip": null,
            "_model_module": "@jupyter-widgets/controls",
            "layout": "IPY_MODEL_0e7099da1d594752ab405ef27347f790"
          }
        },
        "7a5eac0b747f4963a9a65280d8dde3e8": {
          "model_module": "@jupyter-widgets/controls",
          "model_name": "ProgressStyleModel",
          "state": {
            "_view_name": "StyleView",
            "_model_name": "ProgressStyleModel",
            "description_width": "initial",
            "_view_module": "@jupyter-widgets/base",
            "_model_module_version": "1.5.0",
            "_view_count": null,
            "_view_module_version": "1.2.0",
            "bar_color": null,
            "_model_module": "@jupyter-widgets/controls"
          }
        },
        "8b50e3f1f9af4808bb376de52a879d0c": {
          "model_module": "@jupyter-widgets/base",
          "model_name": "LayoutModel",
          "state": {
            "_view_name": "LayoutView",
            "grid_template_rows": null,
            "right": null,
            "justify_content": null,
            "_view_module": "@jupyter-widgets/base",
            "overflow": null,
            "_model_module_version": "1.2.0",
            "_view_count": null,
            "flex_flow": null,
            "width": null,
            "min_width": null,
            "border": null,
            "align_items": null,
            "bottom": null,
            "_model_module": "@jupyter-widgets/base",
            "top": null,
            "grid_column": null,
            "overflow_y": null,
            "overflow_x": null,
            "grid_auto_flow": null,
            "grid_area": null,
            "grid_template_columns": null,
            "flex": null,
            "_model_name": "LayoutModel",
            "justify_items": null,
            "grid_row": null,
            "max_height": null,
            "align_content": null,
            "visibility": null,
            "align_self": null,
            "height": null,
            "min_height": null,
            "padding": null,
            "grid_auto_rows": null,
            "grid_gap": null,
            "max_width": null,
            "order": null,
            "_view_module_version": "1.2.0",
            "grid_template_areas": null,
            "object_position": null,
            "object_fit": null,
            "grid_auto_columns": null,
            "margin": null,
            "display": null,
            "left": null
          }
        },
        "79a56a3d84e642ca9cf145ea4f6ce0d8": {
          "model_module": "@jupyter-widgets/controls",
          "model_name": "DescriptionStyleModel",
          "state": {
            "_view_name": "StyleView",
            "_model_name": "DescriptionStyleModel",
            "description_width": "",
            "_view_module": "@jupyter-widgets/base",
            "_model_module_version": "1.5.0",
            "_view_count": null,
            "_view_module_version": "1.2.0",
            "_model_module": "@jupyter-widgets/controls"
          }
        },
        "0e7099da1d594752ab405ef27347f790": {
          "model_module": "@jupyter-widgets/base",
          "model_name": "LayoutModel",
          "state": {
            "_view_name": "LayoutView",
            "grid_template_rows": null,
            "right": null,
            "justify_content": null,
            "_view_module": "@jupyter-widgets/base",
            "overflow": null,
            "_model_module_version": "1.2.0",
            "_view_count": null,
            "flex_flow": null,
            "width": null,
            "min_width": null,
            "border": null,
            "align_items": null,
            "bottom": null,
            "_model_module": "@jupyter-widgets/base",
            "top": null,
            "grid_column": null,
            "overflow_y": null,
            "overflow_x": null,
            "grid_auto_flow": null,
            "grid_area": null,
            "grid_template_columns": null,
            "flex": null,
            "_model_name": "LayoutModel",
            "justify_items": null,
            "grid_row": null,
            "max_height": null,
            "align_content": null,
            "visibility": null,
            "align_self": null,
            "height": null,
            "min_height": null,
            "padding": null,
            "grid_auto_rows": null,
            "grid_gap": null,
            "max_width": null,
            "order": null,
            "_view_module_version": "1.2.0",
            "grid_template_areas": null,
            "object_position": null,
            "object_fit": null,
            "grid_auto_columns": null,
            "margin": null,
            "display": null,
            "left": null
          }
        },
        "cd277390aa114b399c79b23cc548143b": {
          "model_module": "@jupyter-widgets/controls",
          "model_name": "HBoxModel",
          "state": {
            "_view_name": "HBoxView",
            "_dom_classes": [],
            "_model_name": "HBoxModel",
            "_view_module": "@jupyter-widgets/controls",
            "_model_module_version": "1.5.0",
            "_view_count": null,
            "_view_module_version": "1.5.0",
            "box_style": "",
            "layout": "IPY_MODEL_edd8682c4f3e434fb00e9f44936a04d5",
            "_model_module": "@jupyter-widgets/controls",
            "children": [
              "IPY_MODEL_55b10cefcc114421b9bd2ecfa90fe0d6",
              "IPY_MODEL_b91b80e18f9d48308ff2ea882c33e361"
            ]
          }
        },
        "edd8682c4f3e434fb00e9f44936a04d5": {
          "model_module": "@jupyter-widgets/base",
          "model_name": "LayoutModel",
          "state": {
            "_view_name": "LayoutView",
            "grid_template_rows": null,
            "right": null,
            "justify_content": null,
            "_view_module": "@jupyter-widgets/base",
            "overflow": null,
            "_model_module_version": "1.2.0",
            "_view_count": null,
            "flex_flow": null,
            "width": null,
            "min_width": null,
            "border": null,
            "align_items": null,
            "bottom": null,
            "_model_module": "@jupyter-widgets/base",
            "top": null,
            "grid_column": null,
            "overflow_y": null,
            "overflow_x": null,
            "grid_auto_flow": null,
            "grid_area": null,
            "grid_template_columns": null,
            "flex": null,
            "_model_name": "LayoutModel",
            "justify_items": null,
            "grid_row": null,
            "max_height": null,
            "align_content": null,
            "visibility": null,
            "align_self": null,
            "height": null,
            "min_height": null,
            "padding": null,
            "grid_auto_rows": null,
            "grid_gap": null,
            "max_width": null,
            "order": null,
            "_view_module_version": "1.2.0",
            "grid_template_areas": null,
            "object_position": null,
            "object_fit": null,
            "grid_auto_columns": null,
            "margin": null,
            "display": null,
            "left": null
          }
        },
        "55b10cefcc114421b9bd2ecfa90fe0d6": {
          "model_module": "@jupyter-widgets/controls",
          "model_name": "FloatProgressModel",
          "state": {
            "_view_name": "ProgressView",
            "style": "IPY_MODEL_33c8af3a5204414cbcf98f680d92e034",
            "_dom_classes": [],
            "description": "100%",
            "_model_name": "FloatProgressModel",
            "bar_style": "success",
            "max": 20,
            "_view_module": "@jupyter-widgets/controls",
            "_model_module_version": "1.5.0",
            "value": 20,
            "_view_count": null,
            "_view_module_version": "1.5.0",
            "orientation": "horizontal",
            "min": 0,
            "description_tooltip": null,
            "_model_module": "@jupyter-widgets/controls",
            "layout": "IPY_MODEL_2bd33aec2af441af8b04a00af82838bc"
          }
        },
        "b91b80e18f9d48308ff2ea882c33e361": {
          "model_module": "@jupyter-widgets/controls",
          "model_name": "HTMLModel",
          "state": {
            "_view_name": "HTMLView",
            "style": "IPY_MODEL_13630798449848aabadd70cafd3fe98c",
            "_dom_classes": [],
            "description": "",
            "_model_name": "HTMLModel",
            "placeholder": "​",
            "_view_module": "@jupyter-widgets/controls",
            "_model_module_version": "1.5.0",
            "value": " 20/20 [2:18:37&lt;00:00, 415.87s/it, loss=2.03e+3]",
            "_view_count": null,
            "_view_module_version": "1.5.0",
            "description_tooltip": null,
            "_model_module": "@jupyter-widgets/controls",
            "layout": "IPY_MODEL_f2b7411298b1492bb8a3a8bdeeac82f4"
          }
        },
        "33c8af3a5204414cbcf98f680d92e034": {
          "model_module": "@jupyter-widgets/controls",
          "model_name": "ProgressStyleModel",
          "state": {
            "_view_name": "StyleView",
            "_model_name": "ProgressStyleModel",
            "description_width": "initial",
            "_view_module": "@jupyter-widgets/base",
            "_model_module_version": "1.5.0",
            "_view_count": null,
            "_view_module_version": "1.2.0",
            "bar_color": null,
            "_model_module": "@jupyter-widgets/controls"
          }
        },
        "2bd33aec2af441af8b04a00af82838bc": {
          "model_module": "@jupyter-widgets/base",
          "model_name": "LayoutModel",
          "state": {
            "_view_name": "LayoutView",
            "grid_template_rows": null,
            "right": null,
            "justify_content": null,
            "_view_module": "@jupyter-widgets/base",
            "overflow": null,
            "_model_module_version": "1.2.0",
            "_view_count": null,
            "flex_flow": null,
            "width": null,
            "min_width": null,
            "border": null,
            "align_items": null,
            "bottom": null,
            "_model_module": "@jupyter-widgets/base",
            "top": null,
            "grid_column": null,
            "overflow_y": null,
            "overflow_x": null,
            "grid_auto_flow": null,
            "grid_area": null,
            "grid_template_columns": null,
            "flex": null,
            "_model_name": "LayoutModel",
            "justify_items": null,
            "grid_row": null,
            "max_height": null,
            "align_content": null,
            "visibility": null,
            "align_self": null,
            "height": null,
            "min_height": null,
            "padding": null,
            "grid_auto_rows": null,
            "grid_gap": null,
            "max_width": null,
            "order": null,
            "_view_module_version": "1.2.0",
            "grid_template_areas": null,
            "object_position": null,
            "object_fit": null,
            "grid_auto_columns": null,
            "margin": null,
            "display": null,
            "left": null
          }
        },
        "13630798449848aabadd70cafd3fe98c": {
          "model_module": "@jupyter-widgets/controls",
          "model_name": "DescriptionStyleModel",
          "state": {
            "_view_name": "StyleView",
            "_model_name": "DescriptionStyleModel",
            "description_width": "",
            "_view_module": "@jupyter-widgets/base",
            "_model_module_version": "1.5.0",
            "_view_count": null,
            "_view_module_version": "1.2.0",
            "_model_module": "@jupyter-widgets/controls"
          }
        },
        "f2b7411298b1492bb8a3a8bdeeac82f4": {
          "model_module": "@jupyter-widgets/base",
          "model_name": "LayoutModel",
          "state": {
            "_view_name": "LayoutView",
            "grid_template_rows": null,
            "right": null,
            "justify_content": null,
            "_view_module": "@jupyter-widgets/base",
            "overflow": null,
            "_model_module_version": "1.2.0",
            "_view_count": null,
            "flex_flow": null,
            "width": null,
            "min_width": null,
            "border": null,
            "align_items": null,
            "bottom": null,
            "_model_module": "@jupyter-widgets/base",
            "top": null,
            "grid_column": null,
            "overflow_y": null,
            "overflow_x": null,
            "grid_auto_flow": null,
            "grid_area": null,
            "grid_template_columns": null,
            "flex": null,
            "_model_name": "LayoutModel",
            "justify_items": null,
            "grid_row": null,
            "max_height": null,
            "align_content": null,
            "visibility": null,
            "align_self": null,
            "height": null,
            "min_height": null,
            "padding": null,
            "grid_auto_rows": null,
            "grid_gap": null,
            "max_width": null,
            "order": null,
            "_view_module_version": "1.2.0",
            "grid_template_areas": null,
            "object_position": null,
            "object_fit": null,
            "grid_auto_columns": null,
            "margin": null,
            "display": null,
            "left": null
          }
        },
        "3374073114ac45e7bd94907f285fadb6": {
          "model_module": "@jupyter-widgets/controls",
          "model_name": "HBoxModel",
          "state": {
            "_view_name": "HBoxView",
            "_dom_classes": [],
            "_model_name": "HBoxModel",
            "_view_module": "@jupyter-widgets/controls",
            "_model_module_version": "1.5.0",
            "_view_count": null,
            "_view_module_version": "1.5.0",
            "box_style": "",
            "layout": "IPY_MODEL_b3187661916b4b93a1b8d9d45cf778c0",
            "_model_module": "@jupyter-widgets/controls",
            "children": [
              "IPY_MODEL_82a0e75c22614b38b7fa569b219c792f",
              "IPY_MODEL_56c53a55b68d4a68bc5409c238bbf45b"
            ]
          }
        },
        "b3187661916b4b93a1b8d9d45cf778c0": {
          "model_module": "@jupyter-widgets/base",
          "model_name": "LayoutModel",
          "state": {
            "_view_name": "LayoutView",
            "grid_template_rows": null,
            "right": null,
            "justify_content": null,
            "_view_module": "@jupyter-widgets/base",
            "overflow": null,
            "_model_module_version": "1.2.0",
            "_view_count": null,
            "flex_flow": null,
            "width": null,
            "min_width": null,
            "border": null,
            "align_items": null,
            "bottom": null,
            "_model_module": "@jupyter-widgets/base",
            "top": null,
            "grid_column": null,
            "overflow_y": null,
            "overflow_x": null,
            "grid_auto_flow": null,
            "grid_area": null,
            "grid_template_columns": null,
            "flex": null,
            "_model_name": "LayoutModel",
            "justify_items": null,
            "grid_row": null,
            "max_height": null,
            "align_content": null,
            "visibility": null,
            "align_self": null,
            "height": null,
            "min_height": null,
            "padding": null,
            "grid_auto_rows": null,
            "grid_gap": null,
            "max_width": null,
            "order": null,
            "_view_module_version": "1.2.0",
            "grid_template_areas": null,
            "object_position": null,
            "object_fit": null,
            "grid_auto_columns": null,
            "margin": null,
            "display": null,
            "left": null
          }
        },
        "82a0e75c22614b38b7fa569b219c792f": {
          "model_module": "@jupyter-widgets/controls",
          "model_name": "FloatProgressModel",
          "state": {
            "_view_name": "ProgressView",
            "style": "IPY_MODEL_d0c6ae2504e74ad39122b9b3c5ab6560",
            "_dom_classes": [],
            "description": "Ranking: 100%",
            "_model_name": "FloatProgressModel",
            "bar_style": "success",
            "max": 168775,
            "_view_module": "@jupyter-widgets/controls",
            "_model_module_version": "1.5.0",
            "value": 168775,
            "_view_count": null,
            "_view_module_version": "1.5.0",
            "orientation": "horizontal",
            "min": 0,
            "description_tooltip": null,
            "_model_module": "@jupyter-widgets/controls",
            "layout": "IPY_MODEL_de48030f3dd7442e821a02519ca3a1a2"
          }
        },
        "56c53a55b68d4a68bc5409c238bbf45b": {
          "model_module": "@jupyter-widgets/controls",
          "model_name": "HTMLModel",
          "state": {
            "_view_name": "HTMLView",
            "style": "IPY_MODEL_42d80fe9d6d049aca194835387d9e966",
            "_dom_classes": [],
            "description": "",
            "_model_name": "HTMLModel",
            "placeholder": "​",
            "_view_module": "@jupyter-widgets/controls",
            "_model_module_version": "1.5.0",
            "value": " 168775/168775 [23:57&lt;00:00, 117.42it/s]",
            "_view_count": null,
            "_view_module_version": "1.5.0",
            "description_tooltip": null,
            "_model_module": "@jupyter-widgets/controls",
            "layout": "IPY_MODEL_8a9b69aad24d472e8335d2c08be3c976"
          }
        },
        "d0c6ae2504e74ad39122b9b3c5ab6560": {
          "model_module": "@jupyter-widgets/controls",
          "model_name": "ProgressStyleModel",
          "state": {
            "_view_name": "StyleView",
            "_model_name": "ProgressStyleModel",
            "description_width": "initial",
            "_view_module": "@jupyter-widgets/base",
            "_model_module_version": "1.5.0",
            "_view_count": null,
            "_view_module_version": "1.2.0",
            "bar_color": null,
            "_model_module": "@jupyter-widgets/controls"
          }
        },
        "de48030f3dd7442e821a02519ca3a1a2": {
          "model_module": "@jupyter-widgets/base",
          "model_name": "LayoutModel",
          "state": {
            "_view_name": "LayoutView",
            "grid_template_rows": null,
            "right": null,
            "justify_content": null,
            "_view_module": "@jupyter-widgets/base",
            "overflow": null,
            "_model_module_version": "1.2.0",
            "_view_count": null,
            "flex_flow": null,
            "width": null,
            "min_width": null,
            "border": null,
            "align_items": null,
            "bottom": null,
            "_model_module": "@jupyter-widgets/base",
            "top": null,
            "grid_column": null,
            "overflow_y": null,
            "overflow_x": null,
            "grid_auto_flow": null,
            "grid_area": null,
            "grid_template_columns": null,
            "flex": null,
            "_model_name": "LayoutModel",
            "justify_items": null,
            "grid_row": null,
            "max_height": null,
            "align_content": null,
            "visibility": null,
            "align_self": null,
            "height": null,
            "min_height": null,
            "padding": null,
            "grid_auto_rows": null,
            "grid_gap": null,
            "max_width": null,
            "order": null,
            "_view_module_version": "1.2.0",
            "grid_template_areas": null,
            "object_position": null,
            "object_fit": null,
            "grid_auto_columns": null,
            "margin": null,
            "display": null,
            "left": null
          }
        },
        "42d80fe9d6d049aca194835387d9e966": {
          "model_module": "@jupyter-widgets/controls",
          "model_name": "DescriptionStyleModel",
          "state": {
            "_view_name": "StyleView",
            "_model_name": "DescriptionStyleModel",
            "description_width": "",
            "_view_module": "@jupyter-widgets/base",
            "_model_module_version": "1.5.0",
            "_view_count": null,
            "_view_module_version": "1.2.0",
            "_model_module": "@jupyter-widgets/controls"
          }
        },
        "8a9b69aad24d472e8335d2c08be3c976": {
          "model_module": "@jupyter-widgets/base",
          "model_name": "LayoutModel",
          "state": {
            "_view_name": "LayoutView",
            "grid_template_rows": null,
            "right": null,
            "justify_content": null,
            "_view_module": "@jupyter-widgets/base",
            "overflow": null,
            "_model_module_version": "1.2.0",
            "_view_count": null,
            "flex_flow": null,
            "width": null,
            "min_width": null,
            "border": null,
            "align_items": null,
            "bottom": null,
            "_model_module": "@jupyter-widgets/base",
            "top": null,
            "grid_column": null,
            "overflow_y": null,
            "overflow_x": null,
            "grid_auto_flow": null,
            "grid_area": null,
            "grid_template_columns": null,
            "flex": null,
            "_model_name": "LayoutModel",
            "justify_items": null,
            "grid_row": null,
            "max_height": null,
            "align_content": null,
            "visibility": null,
            "align_self": null,
            "height": null,
            "min_height": null,
            "padding": null,
            "grid_auto_rows": null,
            "grid_gap": null,
            "max_width": null,
            "order": null,
            "_view_module_version": "1.2.0",
            "grid_template_areas": null,
            "object_position": null,
            "object_fit": null,
            "grid_auto_columns": null,
            "margin": null,
            "display": null,
            "left": null
          }
        }
      }
    }
  },
  "cells": [
    {
      "cell_type": "code",
      "metadata": {
        "colab": {
          "base_uri": "https://localhost:8080/"
        },
        "id": "8SIRg3Bb06Gh",
        "outputId": "aa024081-ebd2-4c89-d567-13cae260e700"
      },
      "source": [
        "!pip install --quiet cornac\n"
      ],
      "execution_count": null,
      "outputs": [
        {
          "output_type": "stream",
          "text": [
            "\u001b[K     |████████████████████████████████| 12.4 MB 15.8 MB/s \n",
            "\u001b[?25h  Building wheel for powerlaw (setup.py) ... \u001b[?25l\u001b[?25hdone\n"
          ],
          "name": "stdout"
        }
      ]
    },
    {
      "cell_type": "code",
      "metadata": {
        "colab": {
          "base_uri": "https://localhost:8080/"
        },
        "id": "evIhe2Lw1FMm",
        "outputId": "8d7f8aaf-52ba-4fa0-8e59-addaa04c1c98"
      },
      "source": [
        "import sys \n",
        "import cornac\n",
        "import numpy as np\n",
        "import pandas as pd\n",
        "from sklearn.model_selection import train_test_split\n",
        "\n",
        "from cornac.eval_methods import RatioSplit, BaseMethod, CrossValidation,StratifiedSplit\n",
        "from cornac.models import MF, NMF, WMF, BPR, CTR\n",
        "from cornac.hyperopt import Discrete, Continuous\n",
        "from cornac.hyperopt import GridSearch, RandomSearch\n",
        "from cornac.data import Reader\n",
        "\n",
        "%tensorflow_version 1.x\n",
        "import tensorflow as tf\n",
        "\n",
        "SEED = 42\n",
        "VERBOSE = True"
      ],
      "execution_count": null,
      "outputs": [
        {
          "output_type": "stream",
          "text": [
            "TensorFlow 1.x selected.\n"
          ],
          "name": "stdout"
        }
      ]
    },
    {
      "cell_type": "code",
      "metadata": {
        "colab": {
          "base_uri": "https://localhost:8080/"
        },
        "id": "tkO1wfld1FgG",
        "outputId": "32076687-2d1f-4ae0-bb4c-0c29530412de"
      },
      "source": [
        "from google.colab import drive\n",
        "drive.mount('/content/gdrive')"
      ],
      "execution_count": null,
      "outputs": [
        {
          "output_type": "stream",
          "text": [
            "Mounted at /content/gdrive\n"
          ],
          "name": "stdout"
        }
      ]
    },
    {
      "cell_type": "code",
      "metadata": {
        "colab": {
          "base_uri": "https://localhost:8080/",
          "height": 632
        },
        "id": "TlJBBPHF9CTT",
        "outputId": "de0dff21-93ed-469e-8a03-0c073641247a"
      },
      "source": [
        "review_train=pd.read_csv('/content/gdrive/MyDrive/train_review.csv')\n",
        "review_train.head()"
      ],
      "execution_count": null,
      "outputs": [
        {
          "output_type": "execute_result",
          "data": {
            "text/html": [
              "<div>\n",
              "<style scoped>\n",
              "    .dataframe tbody tr th:only-of-type {\n",
              "        vertical-align: middle;\n",
              "    }\n",
              "\n",
              "    .dataframe tbody tr th {\n",
              "        vertical-align: top;\n",
              "    }\n",
              "\n",
              "    .dataframe thead th {\n",
              "        text-align: right;\n",
              "    }\n",
              "</style>\n",
              "<table border=\"1\" class=\"dataframe\">\n",
              "  <thead>\n",
              "    <tr style=\"text-align: right;\">\n",
              "      <th></th>\n",
              "      <th>overall</th>\n",
              "      <th>reviewTime</th>\n",
              "      <th>reviewerID</th>\n",
              "      <th>asin</th>\n",
              "      <th>style</th>\n",
              "      <th>reviewText</th>\n",
              "      <th>summary</th>\n",
              "      <th>unixReviewTime</th>\n",
              "    </tr>\n",
              "  </thead>\n",
              "  <tbody>\n",
              "    <tr>\n",
              "      <th>0</th>\n",
              "      <td>5.0</td>\n",
              "      <td>03 22, 2016</td>\n",
              "      <td>A2MOB79WI93FDN</td>\n",
              "      <td>6040972467</td>\n",
              "      <td>{'Size:': ' X-Large', 'Color:': ' Pink'}</td>\n",
              "      <td>love it</td>\n",
              "      <td>Five Stars</td>\n",
              "      <td>1458604800</td>\n",
              "    </tr>\n",
              "    <tr>\n",
              "      <th>1</th>\n",
              "      <td>3.0</td>\n",
              "      <td>11 19, 2016</td>\n",
              "      <td>A16O44MQ3ZS7CL</td>\n",
              "      <td>6040972467</td>\n",
              "      <td>{'Size:': ' 4/6', 'Color:': ' Pink'}</td>\n",
              "      <td>This was too big for me in the bust area (and ...</td>\n",
              "      <td>Eh. Lol. Too big for my little size.</td>\n",
              "      <td>1479513600</td>\n",
              "    </tr>\n",
              "    <tr>\n",
              "      <th>2</th>\n",
              "      <td>3.0</td>\n",
              "      <td>09 17, 2016</td>\n",
              "      <td>A14ZLDIG0XD6AL</td>\n",
              "      <td>6040972467</td>\n",
              "      <td>{'Size:': ' 12/14', 'Color:': ' White and Blue'}</td>\n",
              "      <td>This dress fit fairly well, except that I'm pr...</td>\n",
              "      <td>Nice dress - fairly deep V</td>\n",
              "      <td>1474070400</td>\n",
              "    </tr>\n",
              "    <tr>\n",
              "      <th>3</th>\n",
              "      <td>3.0</td>\n",
              "      <td>08 21, 2016</td>\n",
              "      <td>A339XOY8DU2UWE</td>\n",
              "      <td>6040972467</td>\n",
              "      <td>{'Size:': ' 12/14', 'Color:': ' White And Red'}</td>\n",
              "      <td>The fit on this is awesome, and I love the des...</td>\n",
              "      <td>The fit on this is awesome, and I love the design</td>\n",
              "      <td>1471737600</td>\n",
              "    </tr>\n",
              "    <tr>\n",
              "      <th>4</th>\n",
              "      <td>5.0</td>\n",
              "      <td>08 19, 2016</td>\n",
              "      <td>A2BLA3KO8HGANN</td>\n",
              "      <td>6040972467</td>\n",
              "      <td>{'Size:': ' 16', 'Color:': ' White And Red'}</td>\n",
              "      <td>I am very pleased with this dress! I wasn't su...</td>\n",
              "      <td>Perfect Comfortable Summer Dress!</td>\n",
              "      <td>1471564800</td>\n",
              "    </tr>\n",
              "  </tbody>\n",
              "</table>\n",
              "</div>"
            ],
            "text/plain": [
              "   overall  ... unixReviewTime\n",
              "0      5.0  ...     1458604800\n",
              "1      3.0  ...     1479513600\n",
              "2      3.0  ...     1474070400\n",
              "3      3.0  ...     1471737600\n",
              "4      5.0  ...     1471564800\n",
              "\n",
              "[5 rows x 8 columns]"
            ]
          },
          "metadata": {
            "tags": []
          },
          "execution_count": 4
        }
      ]
    },
    {
      "cell_type": "code",
      "metadata": {
        "colab": {
          "base_uri": "https://localhost:8080/",
          "height": 530
        },
        "id": "CqoQfjYF_RlG",
        "outputId": "07a0f734-cdf3-4d0b-c48a-13a564d92c95"
      },
      "source": [
        "review_test=pd.read_csv('/content/gdrive/MyDrive/test_seen_review.csv')\n",
        "review_test.head()"
      ],
      "execution_count": null,
      "outputs": [
        {
          "output_type": "execute_result",
          "data": {
            "text/html": [
              "<div>\n",
              "<style scoped>\n",
              "    .dataframe tbody tr th:only-of-type {\n",
              "        vertical-align: middle;\n",
              "    }\n",
              "\n",
              "    .dataframe tbody tr th {\n",
              "        vertical-align: top;\n",
              "    }\n",
              "\n",
              "    .dataframe thead th {\n",
              "        text-align: right;\n",
              "    }\n",
              "</style>\n",
              "<table border=\"1\" class=\"dataframe\">\n",
              "  <thead>\n",
              "    <tr style=\"text-align: right;\">\n",
              "      <th></th>\n",
              "      <th>overall</th>\n",
              "      <th>reviewTime</th>\n",
              "      <th>reviewerID</th>\n",
              "      <th>asin</th>\n",
              "      <th>style</th>\n",
              "      <th>reviewText</th>\n",
              "      <th>summary</th>\n",
              "      <th>unixReviewTime</th>\n",
              "    </tr>\n",
              "  </thead>\n",
              "  <tbody>\n",
              "    <tr>\n",
              "      <th>0</th>\n",
              "      <td>3.0</td>\n",
              "      <td>09 5, 2017</td>\n",
              "      <td>A0003492LQH8LJXPWDMZ</td>\n",
              "      <td>B01FY9XN00</td>\n",
              "      <td>{'Size:': ' 3', 'Color:': ' Tan'}</td>\n",
              "      <td>Decent material, the shorts were a bit bigger ...</td>\n",
              "      <td>Overall not bad for the price</td>\n",
              "      <td>1504569600</td>\n",
              "    </tr>\n",
              "    <tr>\n",
              "      <th>1</th>\n",
              "      <td>2.0</td>\n",
              "      <td>02 16, 2017</td>\n",
              "      <td>A001170867ZBE9FORRQL</td>\n",
              "      <td>B00G2CNYNA</td>\n",
              "      <td>{'Size:': ' Large', 'Color:': ' Water Blue'}</td>\n",
              "      <td>Nice material, but fits very small - unable to...</td>\n",
              "      <td>Two Stars</td>\n",
              "      <td>1487203200</td>\n",
              "    </tr>\n",
              "    <tr>\n",
              "      <th>2</th>\n",
              "      <td>5.0</td>\n",
              "      <td>02 22, 2016</td>\n",
              "      <td>A0036810AKGSUKHOLV23</td>\n",
              "      <td>B00UBOPM6W</td>\n",
              "      <td>{'Size:': ' Medium', 'Color:': ' Black White'}</td>\n",
              "      <td>Great dress fit great</td>\n",
              "      <td>Five Stars</td>\n",
              "      <td>1456099200</td>\n",
              "    </tr>\n",
              "    <tr>\n",
              "      <th>3</th>\n",
              "      <td>5.0</td>\n",
              "      <td>01 18, 2017</td>\n",
              "      <td>A0036810AKGSUKHOLV23</td>\n",
              "      <td>B017XB96G2</td>\n",
              "      <td>{'Size:': ' Small', 'Color:': ' #06 Black'}</td>\n",
              "      <td>Great sweater!!!</td>\n",
              "      <td>Five Stars</td>\n",
              "      <td>1484697600</td>\n",
              "    </tr>\n",
              "    <tr>\n",
              "      <th>4</th>\n",
              "      <td>4.0</td>\n",
              "      <td>10 26, 2016</td>\n",
              "      <td>A0039616ADOZ0KMWQRNX</td>\n",
              "      <td>B01B5DLI88</td>\n",
              "      <td>{'Size:': ' X-Large', 'Color:': ' Red/Navy'}</td>\n",
              "      <td>I thought these would be a thicker material fo...</td>\n",
              "      <td>Long and thin but still a win!</td>\n",
              "      <td>1477440000</td>\n",
              "    </tr>\n",
              "  </tbody>\n",
              "</table>\n",
              "</div>"
            ],
            "text/plain": [
              "   overall   reviewTime  ...                         summary unixReviewTime\n",
              "0      3.0   09 5, 2017  ...   Overall not bad for the price     1504569600\n",
              "1      2.0  02 16, 2017  ...                       Two Stars     1487203200\n",
              "2      5.0  02 22, 2016  ...                      Five Stars     1456099200\n",
              "3      5.0  01 18, 2017  ...                      Five Stars     1484697600\n",
              "4      4.0  10 26, 2016  ...  Long and thin but still a win!     1477440000\n",
              "\n",
              "[5 rows x 8 columns]"
            ]
          },
          "metadata": {
            "tags": []
          },
          "execution_count": 5
        }
      ]
    },
    {
      "cell_type": "code",
      "metadata": {
        "colab": {
          "base_uri": "https://localhost:8080/"
        },
        "id": "o5D44P43BSpE",
        "outputId": "8878fd51-5fa4-49a2-e34a-154612cff591"
      },
      "source": [
        "print(review_train.shape)\n",
        "print(review_test.shape)"
      ],
      "execution_count": null,
      "outputs": [
        {
          "output_type": "stream",
          "text": [
            "(1069882, 8)\n",
            "(191831, 8)\n"
          ],
          "name": "stdout"
        }
      ]
    },
    {
      "cell_type": "code",
      "metadata": {
        "id": "z2AvX4KS-C_J"
      },
      "source": [
        "# Select only user_id, item_id and rating columns from reviews dataset\n",
        "\n",
        "rating_triplet_train = review_train[['reviewerID', 'asin', 'overall']]\n",
        "rating_triplet_train.columns = ['user_id', 'item_id', 'rating']\n",
        "\n",
        "\n",
        "rating_triplet_test = review_test[['reviewerID', 'asin', 'overall']]\n",
        "rating_triplet_test.columns = ['user_id', 'item_id', 'rating']"
      ],
      "execution_count": null,
      "outputs": []
    },
    {
      "cell_type": "code",
      "metadata": {
        "id": "jy-P_uw2-14a"
      },
      "source": [
        "# Convert review data to Cornac format \n",
        "\n",
        "train = list(rating_triplet_train.to_records(index=False))\n",
        "test = list(rating_triplet_test.to_records(index=False))"
      ],
      "execution_count": null,
      "outputs": []
    },
    {
      "cell_type": "code",
      "metadata": {
        "colab": {
          "base_uri": "https://localhost:8080/"
        },
        "id": "F2BKZ1zD26WZ",
        "outputId": "d4ecdd34-a87c-4306-f22a-fed88f06e331"
      },
      "source": [
        "base_method = BaseMethod.from_splits(\n",
        "    train_data=train, test_data=test, exclude_unknowns=True, verbose=VERBOSE,rating_threshold=1.0, seed=SEED\n",
        ")\n",
        "\n"
      ],
      "execution_count": null,
      "outputs": [
        {
          "output_type": "stream",
          "text": [
            "rating_threshold = 1.0\n",
            "exclude_unknowns = True\n"
          ],
          "name": "stdout"
        },
        {
          "output_type": "stream",
          "text": [
            "/usr/local/lib/python3.7/dist-packages/cornac/data/dataset.py:361: UserWarning: 16713 duplicated observations are removed!\n",
            "  warnings.warn(\"%d duplicated observations are removed!\" % dup_count)\n"
          ],
          "name": "stderr"
        },
        {
          "output_type": "stream",
          "text": [
            "---\n",
            "Training data:\n",
            "Number of users = 505047\n",
            "Number of items = 42362\n",
            "Number of ratings = 1053169\n",
            "Max rating = 5.0\n",
            "Min rating = 1.0\n",
            "Global mean = 4.1\n",
            "---\n",
            "Test data:\n",
            "Number of users = 168775\n",
            "Number of items = 27914\n",
            "Number of ratings = 191113\n",
            "Number of unknown users = 0\n",
            "Number of unknown items = 0\n",
            "---\n",
            "Total users = 505047\n",
            "Total items = 42362\n"
          ],
          "name": "stdout"
        },
        {
          "output_type": "stream",
          "text": [
            "/usr/local/lib/python3.7/dist-packages/cornac/data/dataset.py:361: UserWarning: 126 duplicated observations are removed!\n",
            "  warnings.warn(\"%d duplicated observations are removed!\" % dup_count)\n"
          ],
          "name": "stderr"
        }
      ]
    },
    {
      "cell_type": "code",
      "metadata": {
        "id": "T-DbKXPY1d0L"
      },
      "source": [
        "eval_metrics = [\n",
        "  cornac.metrics.Recall(k=20),\n",
        "  cornac.metrics.NCRR(k=20),\n",
        "  cornac.metrics.NDCG(k=20),\n",
        "]"
      ],
      "execution_count": null,
      "outputs": []
    },
    {
      "cell_type": "code",
      "metadata": {
        "id": "xXqO7A3V1kA4"
      },
      "source": [
        "# BPR model\n",
        "K=1000\n",
        "bpr = BPR(k=1000, max_iter=500, learning_rate=0.1, lambda_reg=0.05, \n",
        "          verbose=VERBOSE, seed=SEED, name=f\"BPR(K={K})\")\n",
        "\n",
        "# rs = RatioSplit(reviews_dataset, test_size=0.2, seed=SEED, verbose=VERBOSE)\n",
        "# cornac.Experiment(eval_method=rs, models=[bpr], metrics=eval_metrics).run()"
      ],
      "execution_count": null,
      "outputs": []
    },
    {
      "cell_type": "code",
      "metadata": {
        "colab": {
          "base_uri": "https://localhost:8080/",
          "height": 319,
          "referenced_widgets": [
            "cf643aaa2f1747b082f487ae96deeb78",
            "6be8837b17f94e3fb054b4b3cd6f83ef",
            "56959fbd11cf438c91b8d7415a92f5c8",
            "33d38594422a4aadbfce8f9aa76e8238",
            "cd2e1c03a5cd4e9486160b613c686fdc",
            "2e68dd96670840f8896797ddc677c6f2",
            "d16ccea87cee4ce0b1b01bca36a0a7a0",
            "5488fb8f494a4b00b0414c2ed742bae8",
            "3314e4ff643747489b5508b2ca0672ab",
            "b098d706f9ad4017b1e946f4ca9cc1bb",
            "9ef06e84c6e84986a380f3ca0a16d9fa",
            "bcf5877a83ea49138e6afc79244e8195",
            "7a5eac0b747f4963a9a65280d8dde3e8",
            "8b50e3f1f9af4808bb376de52a879d0c",
            "79a56a3d84e642ca9cf145ea4f6ce0d8",
            "0e7099da1d594752ab405ef27347f790"
          ]
        },
        "id": "uD-n5feuLhDe",
        "outputId": "5beed19d-c321-4a66-8338-a7db58f12bd4"
      },
      "source": [
        "cornac.Experiment(\n",
        "    eval_method=base_method,\n",
        "    models=[bpr],\n",
        "    metrics=eval_metrics\n",
        ").run()"
      ],
      "execution_count": null,
      "outputs": [
        {
          "output_type": "stream",
          "text": [
            "\n",
            "[BPR(K=1000)] Training started!\n"
          ],
          "name": "stdout"
        },
        {
          "output_type": "display_data",
          "data": {
            "application/vnd.jupyter.widget-view+json": {
              "model_id": "cf643aaa2f1747b082f487ae96deeb78",
              "version_minor": 0,
              "version_major": 2
            },
            "text/plain": [
              "HBox(children=(FloatProgress(value=0.0, max=500.0), HTML(value='')))"
            ]
          },
          "metadata": {
            "tags": []
          }
        },
        {
          "output_type": "stream",
          "text": [
            "\n",
            "Optimization finished!\n",
            "\n",
            "[BPR(K=1000)] Evaluation started!\n"
          ],
          "name": "stdout"
        },
        {
          "output_type": "display_data",
          "data": {
            "application/vnd.jupyter.widget-view+json": {
              "model_id": "3314e4ff643747489b5508b2ca0672ab",
              "version_minor": 0,
              "version_major": 2
            },
            "text/plain": [
              "HBox(children=(FloatProgress(value=0.0, description='Ranking', max=168775.0, style=ProgressStyle(description_w…"
            ]
          },
          "metadata": {
            "tags": []
          }
        },
        {
          "output_type": "stream",
          "text": [
            "\n",
            "\n",
            "TEST:\n",
            "...\n",
            "            | NCRR@20 | NDCG@20 | Recall@20 | Train (s) |  Test (s)\n",
            "----------- + ------- + ------- + --------- + --------- + ---------\n",
            "BPR(K=1000) |  0.1043 |  0.1374 |    0.2465 | 1234.9510 | 2277.6290\n",
            "\n"
          ],
          "name": "stdout"
        }
      ]
    },
    {
      "cell_type": "markdown",
      "metadata": {
        "id": "6ko_4VgZfShX"
      },
      "source": [
        "A2522ZTCKCJZQT\n",
        "A2PACJHFKI74Y3\n",
        "A2OSLOUKH5VWGL\n",
        "A1HV6KKVTGMCGE"
      ]
    },
    {
      "cell_type": "code",
      "metadata": {
        "colab": {
          "base_uri": "https://localhost:8080/"
        },
        "id": "hHfhCIkOfm09",
        "outputId": "5d3390b2-b8c2-4821-9784-8c72bacce5c0"
      },
      "source": [
        "# get top 10 recommended items asin for selection users user_id\n",
        "l=[\"A2522ZTCKCJZQT\", \"A2PACJHFKI74Y3\", \"A2OSLOUKH5VWGL\", \"A1HV6KKVTGMCGE\"]\n",
        "ind_l = [rating_triplet_test[rating_triplet_test['user_id']==i].index.values.astype(int)[0] for i in l]\n",
        "print(ind_l)\n",
        "# [57908, 86544, 85868, 25228]\n",
        "item_idx=[]\n",
        "for i in ind_l:\n",
        "  # print(len(bpr.rank(i)[0][:10].tolist()))\n",
        "  item_idx.append(bpr.rank(i)[0][:10].tolist())\n",
        "print(item_idx)\n",
        "\n",
        "asin_l=[]\n",
        "for i in item_idx:\n",
        "  asins=[]\n",
        "  for j in i:\n",
        "    asins.append(rating_triplet_test.iloc[j,1])\n",
        "  asin_l.append(asins)\n",
        "print(asin_l)\n"
      ],
      "execution_count": null,
      "outputs": [
        {
          "output_type": "stream",
          "text": [
            "[57908, 86544, 85868, 25228]\n",
            "[[11671, 20260, 18575, 24179, 11606, 16770, 17130, 5503, 12638, 23424], [8369, 317, 2193, 12697, 3295, 1869, 1224, 1204, 863, 12827], [1798, 317, 852, 15071, 12827, 1204, 5237, 843, 863, 2193], [375, 888, 486, 377, 12827, 3154, 372, 374, 317, 863]]\n",
            "[['B00WIS9CEC', 'B00T8R0F4C', 'B00XC2FB66', 'B01E5Q8IE4', 'B006WMAC2Q', 'B0001MJG02', 'B00ZN0A00M', 'B00016QOX0', 'B01HIRG2OA', 'B01CYAUZ94'], ['B015FFTIVQ', 'B00453ER48', 'B01AVQF0DO', 'B00WW6YJG6', 'B008VJDUEA', 'B0018OHL5E', 'B010FC88DS', 'B00IRW79UM', 'B00NQJ5LAQ', 'B0008EOC5W'], ['B0012F7FGE', 'B00453ER48', 'B0009XDAH8', 'B00K58JCVU', 'B0008EOC5W', 'B00IRW79UM', 'B01EA9OZDO', 'B015IO2VYK', 'B00NQJ5LAQ', 'B01AVQF0DO'], ['B00OC0K6EE', 'B01E61CD1C', 'B00JMY6UW2', 'B00W4E3ZZC', 'B0008EOC5W', 'B00DFMH9EK', 'B003OQUKHK', 'B013LASMT6', 'B00453ER48', 'B00NQJ5LAQ']]\n"
          ],
          "name": "stdout"
        }
      ]
    },
    {
      "cell_type": "code",
      "metadata": {
        "colab": {
          "base_uri": "https://localhost:8080/",
          "height": 319,
          "referenced_widgets": [
            "cd277390aa114b399c79b23cc548143b",
            "edd8682c4f3e434fb00e9f44936a04d5",
            "55b10cefcc114421b9bd2ecfa90fe0d6",
            "b91b80e18f9d48308ff2ea882c33e361",
            "33c8af3a5204414cbcf98f680d92e034",
            "2bd33aec2af441af8b04a00af82838bc",
            "13630798449848aabadd70cafd3fe98c",
            "f2b7411298b1492bb8a3a8bdeeac82f4",
            "3374073114ac45e7bd94907f285fadb6",
            "b3187661916b4b93a1b8d9d45cf778c0",
            "82a0e75c22614b38b7fa569b219c792f",
            "56c53a55b68d4a68bc5409c238bbf45b",
            "d0c6ae2504e74ad39122b9b3c5ab6560",
            "de48030f3dd7442e821a02519ca3a1a2",
            "42d80fe9d6d049aca194835387d9e966",
            "8a9b69aad24d472e8335d2c08be3c976"
          ]
        },
        "id": "ccqAxVyN1goe",
        "outputId": "22316181-525a-4605-9256-37fd8c668362"
      },
      "source": [
        "# MF model\n",
        "\n",
        "K = 50\n",
        "wmf = WMF(k=K, max_iter=20, learning_rate=0.1,\n",
        "        verbose=VERBOSE, seed=SEED, name=f\"WMF(K={K})\")\n",
        "\n",
        "cornac.Experiment(eval_method=base_method, models=[wmf], metrics=eval_metrics).run()"
      ],
      "execution_count": null,
      "outputs": [
        {
          "output_type": "stream",
          "text": [
            "\n",
            "[WMF(K=50)] Training started!\n"
          ],
          "name": "stdout"
        },
        {
          "output_type": "display_data",
          "data": {
            "application/vnd.jupyter.widget-view+json": {
              "model_id": "cd277390aa114b399c79b23cc548143b",
              "version_minor": 0,
              "version_major": 2
            },
            "text/plain": [
              "HBox(children=(FloatProgress(value=0.0, max=20.0), HTML(value='')))"
            ]
          },
          "metadata": {
            "tags": []
          }
        },
        {
          "output_type": "stream",
          "text": [
            "\n",
            "Learning completed!\n",
            "\n",
            "[WMF(K=50)] Evaluation started!\n"
          ],
          "name": "stdout"
        },
        {
          "output_type": "display_data",
          "data": {
            "application/vnd.jupyter.widget-view+json": {
              "model_id": "3374073114ac45e7bd94907f285fadb6",
              "version_minor": 0,
              "version_major": 2
            },
            "text/plain": [
              "HBox(children=(FloatProgress(value=0.0, description='Ranking', max=168775.0, style=ProgressStyle(description_w…"
            ]
          },
          "metadata": {
            "tags": []
          }
        },
        {
          "output_type": "stream",
          "text": [
            "\n",
            "\n",
            "TEST:\n",
            "...\n",
            "          | NCRR@20 | NDCG@20 | Recall@20 | Train (s) |  Test (s)\n",
            "--------- + ------- + ------- + --------- + --------- + ---------\n",
            "WMF(K=50) |  0.0011 |  0.0014 |    0.0025 | 6882.2817 | 1437.2023\n",
            "\n"
          ],
          "name": "stdout"
        }
      ]
    }
  ]
}